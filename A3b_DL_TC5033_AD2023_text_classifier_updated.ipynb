{
 "cells": [
  {
   "cell_type": "markdown",
   "id": "940c6dbc",
   "metadata": {
    "id": "940c6dbc"
   },
   "source": [
    "## TC 5033\n",
    "### Word Embeddings\n",
    "\n",
    "<br>\n",
    "\n",
    "#### Activity 3b: Text Classification using RNNs and AG_NEWS dataset in PyTorch\n",
    "<br>\n",
    "\n",
    "- Objective:\n",
    "    - Understand the basics of Recurrent Neural Networks (RNNs) and their application in text classification.\n",
    "    - Learn how to handle a real-world text dataset, AG_NEWS, in PyTorch.\n",
    "    - Gain hands-on experience in defining, training, and evaluating a text classification model in PyTorch.\n",
    "    \n",
    "<br>\n",
    "\n",
    "- Instructions:\n",
    "    - Data Preparation: Starter code will be provided that loads the AG_NEWS dataset and prepares it for training. Do not modify this part. However, you should be sure to understand it, and comment it, the use of markdown cells is suggested.\n",
    "\n",
    "    - Model Setup: A skeleton code for the RNN model class will be provided. Complete this class and use it to instantiate your model.\n",
    "\n",
    "    - Implementing Accuracy Function: Write a function that takes model predictions and ground truth labels as input and returns the model's accuracy.\n",
    "\n",
    "    - Training Function: Implement a function that performs training on the given model using the AG_NEWS dataset. Your model should achieve an accuracy of at least 80% to get full marks for this part.\n",
    "\n",
    "    - Text Sampling: Write a function that takes a sample text as input and classifies it using your trained model.\n",
    "\n",
    "    - Confusion Matrix: Implement a function to display the confusion matrix for your model on the test data.\n",
    "\n",
    "    - Submission: Submit your completed Jupyter Notebook. Make sure to include a markdown cell at the beginning of the notebook that lists the names of all team members. Teams should consist of 3 to 4 members.\n",
    "    \n",
    "<br>\n",
    "\n",
    "- Evaluation Criteria:\n",
    "\n",
    "    - Correct setup of all the required libraries and modules (10%)\n",
    "    - Code Quality (30%): Your code should be well-organized, clearly commented, and easy to follow. Use also markdown cells for clarity. Comments should be given for all the provided code, this will help you understand its functionality.\n",
    "    \n",
    "   - Functionality (60%):\n",
    "        - All the functions should execute without errors and provide the expected outputs.\n",
    "        - RNN model class (20%)\n",
    "        - Accuracy fucntion (10%)\n",
    "        - Training function (10%)\n",
    "        - Sampling function (10%)\n",
    "        - Confucion matrix (10%)\n",
    "\n",
    "        - The model should achieve at least an 80% accuracy on the AG_NEWS test set for full marks in this criterion.\n"
   ]
  },
  {
   "cell_type": "markdown",
   "id": "e7e2f9bc",
   "metadata": {},
   "source": [
    "### Team:\n",
    "\n",
    "- Martín Jurado .................................................. A01795568\n",
    "- Lineth Guerra .................................................. A01795639\n",
    "- Erick Eduardo Betancourt ........................... A01795545\n",
    "- Luis Alejandro González Castellanos ................. A01795481\n",
    "- Jesús Armando Anaya Orozco .................... A01795464"
   ]
  },
  {
   "cell_type": "markdown",
   "id": "4de318da",
   "metadata": {
    "id": "4de318da"
   },
   "source": [
    "Dataset\n",
    "\n",
    "https://pytorch.org/text/stable/datasets.html#text-classification\n",
    "\n",
    "https://paperswithcode.com/dataset/ag-news\n"
   ]
  },
  {
   "cell_type": "markdown",
   "id": "4a9801f9",
   "metadata": {
    "id": "4a9801f9"
   },
   "source": [
    "#### Install libraries (if needed)"
   ]
  },
  {
   "cell_type": "markdown",
   "id": "97QE07qUQXN4",
   "metadata": {
    "id": "97QE07qUQXN4"
   },
   "source": [
    "You may need to install the following libraries to ensure version compatibility. After installing them, please Restart the Session (Runtime -> Restart Session)"
   ]
  },
  {
   "cell_type": "code",
   "execution_count": 1,
   "id": "54394f53",
   "metadata": {
    "colab": {
     "base_uri": "https://localhost:8080/"
    },
    "executionInfo": {
     "elapsed": 197855,
     "status": "ok",
     "timestamp": 1730926937697,
     "user": {
      "displayName": "José Antonio Cantoral Ceballos",
      "userId": "04961139803161381162"
     },
     "user_tz": 360
    },
    "id": "54394f53",
    "outputId": "01dd9e91-176b-4879-f052-aaf17a90ef72"
   },
   "outputs": [
    {
     "name": "stdout",
     "output_type": "stream",
     "text": [
      "Requirement already satisfied: torch==2.0.1 in /usr/local/lib/python3.11/dist-packages (2.0.1)\n",
      "Requirement already satisfied: torchvision==0.15.2 in /usr/local/lib/python3.11/dist-packages (0.15.2)\n",
      "Requirement already satisfied: torchaudio==2.0.2 in /usr/local/lib/python3.11/dist-packages (2.0.2)\n",
      "Requirement already satisfied: torchtext==0.15.2 in /usr/local/lib/python3.11/dist-packages (0.15.2)\n",
      "Requirement already satisfied: filelock in /usr/local/lib/python3.11/dist-packages (from torch==2.0.1) (3.13.1)\n",
      "Requirement already satisfied: typing-extensions in /usr/local/lib/python3.11/dist-packages (from torch==2.0.1) (4.9.0)\n",
      "Requirement already satisfied: sympy in /usr/local/lib/python3.11/dist-packages (from torch==2.0.1) (1.12)\n",
      "Requirement already satisfied: networkx in /usr/local/lib/python3.11/dist-packages (from torch==2.0.1) (3.2.1)\n",
      "Requirement already satisfied: jinja2 in /usr/local/lib/python3.11/dist-packages (from torch==2.0.1) (3.1.3)\n",
      "Requirement already satisfied: nvidia-cuda-nvrtc-cu11==11.7.99 in /usr/local/lib/python3.11/dist-packages (from torch==2.0.1) (11.7.99)\n",
      "Requirement already satisfied: nvidia-cuda-runtime-cu11==11.7.99 in /usr/local/lib/python3.11/dist-packages (from torch==2.0.1) (11.7.99)\n",
      "Requirement already satisfied: nvidia-cuda-cupti-cu11==11.7.101 in /usr/local/lib/python3.11/dist-packages (from torch==2.0.1) (11.7.101)\n",
      "Requirement already satisfied: nvidia-cudnn-cu11==8.5.0.96 in /usr/local/lib/python3.11/dist-packages (from torch==2.0.1) (8.5.0.96)\n",
      "Requirement already satisfied: nvidia-cublas-cu11==11.10.3.66 in /usr/local/lib/python3.11/dist-packages (from torch==2.0.1) (11.10.3.66)\n",
      "Requirement already satisfied: nvidia-cufft-cu11==10.9.0.58 in /usr/local/lib/python3.11/dist-packages (from torch==2.0.1) (10.9.0.58)\n",
      "Requirement already satisfied: nvidia-curand-cu11==10.2.10.91 in /usr/local/lib/python3.11/dist-packages (from torch==2.0.1) (10.2.10.91)\n",
      "Requirement already satisfied: nvidia-cusolver-cu11==11.4.0.1 in /usr/local/lib/python3.11/dist-packages (from torch==2.0.1) (11.4.0.1)\n",
      "Requirement already satisfied: nvidia-cusparse-cu11==11.7.4.91 in /usr/local/lib/python3.11/dist-packages (from torch==2.0.1) (11.7.4.91)\n",
      "Requirement already satisfied: nvidia-nccl-cu11==2.14.3 in /usr/local/lib/python3.11/dist-packages (from torch==2.0.1) (2.14.3)\n",
      "Requirement already satisfied: nvidia-nvtx-cu11==11.7.91 in /usr/local/lib/python3.11/dist-packages (from torch==2.0.1) (11.7.91)\n",
      "Requirement already satisfied: triton==2.0.0 in /usr/local/lib/python3.11/dist-packages (from torch==2.0.1) (2.0.0)\n",
      "Requirement already satisfied: numpy in /usr/local/lib/python3.11/dist-packages (from torchvision==0.15.2) (1.25.2)\n",
      "Requirement already satisfied: requests in /usr/local/lib/python3.11/dist-packages (from torchvision==0.15.2) (2.31.0)\n",
      "Requirement already satisfied: pillow!=8.3.*,>=5.3.0 in /usr/local/lib/python3.11/dist-packages (from torchvision==0.15.2) (9.5.0)\n",
      "Requirement already satisfied: tqdm in /usr/local/lib/python3.11/dist-packages (from torchtext==0.15.2) (4.66.1)\n",
      "Requirement already satisfied: torchdata==0.6.1 in /usr/local/lib/python3.11/dist-packages (from torchtext==0.15.2) (0.6.1)\n",
      "Requirement already satisfied: setuptools in /usr/local/lib/python3.11/dist-packages (from nvidia-cublas-cu11==11.10.3.66->torch==2.0.1) (69.0.3)\n",
      "Requirement already satisfied: wheel in /usr/local/lib/python3.11/dist-packages (from nvidia-cublas-cu11==11.10.3.66->torch==2.0.1) (0.35.1)\n",
      "Requirement already satisfied: urllib3>=1.25 in /usr/local/lib/python3.11/dist-packages (from torchdata==0.6.1->torchtext==0.15.2) (2.0.7)\n",
      "Requirement already satisfied: cmake in /usr/local/lib/python3.11/dist-packages (from triton==2.0.0->torch==2.0.1) (3.31.0.1)\n",
      "Requirement already satisfied: lit in /usr/local/lib/python3.11/dist-packages (from triton==2.0.0->torch==2.0.1) (18.1.8)\n",
      "Requirement already satisfied: MarkupSafe>=2.0 in /usr/local/lib/python3.11/dist-packages (from jinja2->torch==2.0.1) (2.1.4)\n",
      "Requirement already satisfied: charset-normalizer<4,>=2 in /usr/local/lib/python3.11/dist-packages (from requests->torchvision==0.15.2) (3.3.2)\n",
      "Requirement already satisfied: idna<4,>=2.5 in /usr/lib/python3/dist-packages (from requests->torchvision==0.15.2) (3.3)\n",
      "Requirement already satisfied: certifi>=2017.4.17 in /usr/lib/python3/dist-packages (from requests->torchvision==0.15.2) (2020.6.20)\n",
      "Requirement already satisfied: mpmath>=0.19 in /usr/local/lib/python3.11/dist-packages (from sympy->torch==2.0.1) (1.3.0)\n",
      "\u001b[33mWARNING: Running pip as the 'root' user can result in broken permissions and conflicting behaviour with the system package manager. It is recommended to use a virtual environment instead: https://pip.pypa.io/warnings/venv\u001b[0m\u001b[33m\n",
      "\u001b[0m"
     ]
    }
   ],
   "source": [
    "!pip install torch==2.0.1 torchvision==0.15.2 torchaudio==2.0.2 torchtext==0.15.2"
   ]
  },
  {
   "cell_type": "code",
   "execution_count": 2,
   "id": "3m9B33A8QOiI",
   "metadata": {
    "colab": {
     "base_uri": "https://localhost:8080/",
     "height": 919
    },
    "executionInfo": {
     "elapsed": 19793,
     "status": "ok",
     "timestamp": 1730927022196,
     "user": {
      "displayName": "José Antonio Cantoral Ceballos",
      "userId": "04961139803161381162"
     },
     "user_tz": 360
    },
    "id": "3m9B33A8QOiI",
    "outputId": "252d46f9-a554-4b2e-e736-9c7db762ae5c"
   },
   "outputs": [
    {
     "name": "stdout",
     "output_type": "stream",
     "text": [
      "Requirement already satisfied: scipy==1.9.3 in /usr/local/lib/python3.11/dist-packages (1.9.3)\n",
      "Requirement already satisfied: numpy<1.26.0,>=1.18.5 in /usr/local/lib/python3.11/dist-packages (from scipy==1.9.3) (1.25.2)\n",
      "\u001b[33mWARNING: Running pip as the 'root' user can result in broken permissions and conflicting behaviour with the system package manager. It is recommended to use a virtual environment instead: https://pip.pypa.io/warnings/venv\u001b[0m\u001b[33m\n",
      "\u001b[0mRequirement already satisfied: scikit-plot in /usr/local/lib/python3.11/dist-packages (0.3.7)\n",
      "Requirement already satisfied: matplotlib>=1.4.0 in /usr/local/lib/python3.11/dist-packages (from scikit-plot) (3.7.3)\n",
      "Requirement already satisfied: scikit-learn>=0.18 in /usr/local/lib/python3.11/dist-packages (from scikit-plot) (1.3.0)\n",
      "Requirement already satisfied: scipy>=0.9 in /usr/local/lib/python3.11/dist-packages (from scikit-plot) (1.9.3)\n",
      "Requirement already satisfied: joblib>=0.10 in /usr/local/lib/python3.11/dist-packages (from scikit-plot) (1.3.2)\n",
      "Requirement already satisfied: contourpy>=1.0.1 in /usr/local/lib/python3.11/dist-packages (from matplotlib>=1.4.0->scikit-plot) (1.2.0)\n",
      "Requirement already satisfied: cycler>=0.10 in /usr/local/lib/python3.11/dist-packages (from matplotlib>=1.4.0->scikit-plot) (0.12.1)\n",
      "Requirement already satisfied: fonttools>=4.22.0 in /usr/local/lib/python3.11/dist-packages (from matplotlib>=1.4.0->scikit-plot) (4.47.2)\n",
      "Requirement already satisfied: kiwisolver>=1.0.1 in /usr/local/lib/python3.11/dist-packages (from matplotlib>=1.4.0->scikit-plot) (1.4.5)\n",
      "Requirement already satisfied: numpy<2,>=1.20 in /usr/local/lib/python3.11/dist-packages (from matplotlib>=1.4.0->scikit-plot) (1.25.2)\n",
      "Requirement already satisfied: packaging>=20.0 in /usr/local/lib/python3.11/dist-packages (from matplotlib>=1.4.0->scikit-plot) (23.2)\n",
      "Requirement already satisfied: pillow>=6.2.0 in /usr/local/lib/python3.11/dist-packages (from matplotlib>=1.4.0->scikit-plot) (9.5.0)\n",
      "Requirement already satisfied: pyparsing>=2.3.1 in /usr/lib/python3/dist-packages (from matplotlib>=1.4.0->scikit-plot) (2.4.7)\n",
      "Requirement already satisfied: python-dateutil>=2.7 in /usr/local/lib/python3.11/dist-packages (from matplotlib>=1.4.0->scikit-plot) (2.8.2)\n",
      "Requirement already satisfied: threadpoolctl>=2.0.0 in /usr/local/lib/python3.11/dist-packages (from scikit-learn>=0.18->scikit-plot) (3.2.0)\n",
      "Requirement already satisfied: six>=1.5 in /usr/lib/python3/dist-packages (from python-dateutil>=2.7->matplotlib>=1.4.0->scikit-plot) (1.16.0)\n",
      "\u001b[33mWARNING: Running pip as the 'root' user can result in broken permissions and conflicting behaviour with the system package manager. It is recommended to use a virtual environment instead: https://pip.pypa.io/warnings/venv\u001b[0m\u001b[33m\n",
      "\u001b[0m"
     ]
    }
   ],
   "source": [
    "!pip install scipy==1.9.3\n",
    "!pip install scikit-plot\n",
    "#you may receive a message of restarting session, this is OK"
   ]
  },
  {
   "cell_type": "code",
   "execution_count": 3,
   "id": "SfzuGL4LQRGc",
   "metadata": {
    "colab": {
     "base_uri": "https://localhost:8080/"
    },
    "executionInfo": {
     "elapsed": 3492,
     "status": "ok",
     "timestamp": 1730927048021,
     "user": {
      "displayName": "José Antonio Cantoral Ceballos",
      "userId": "04961139803161381162"
     },
     "user_tz": 360
    },
    "id": "SfzuGL4LQRGc",
    "outputId": "5302fbaf-e902-42d0-fb30-96a31ae86d19"
   },
   "outputs": [
    {
     "name": "stdout",
     "output_type": "stream",
     "text": [
      "Requirement already satisfied: portalocker in /usr/local/lib/python3.11/dist-packages (2.10.1)\n",
      "\u001b[33mWARNING: Running pip as the 'root' user can result in broken permissions and conflicting behaviour with the system package manager. It is recommended to use a virtual environment instead: https://pip.pypa.io/warnings/venv\u001b[0m\u001b[33m\n",
      "\u001b[0m"
     ]
    }
   ],
   "source": [
    "!pip install portalocker\n",
    "#please restar session after this intallation. After restarting go straight to importing the libraries"
   ]
  },
  {
   "cell_type": "markdown",
   "id": "9IUa6uRqQtGu",
   "metadata": {
    "id": "9IUa6uRqQtGu"
   },
   "source": [
    "## Import libraries"
   ]
  },
  {
   "cell_type": "code",
   "execution_count": 4,
   "id": "878b524f",
   "metadata": {
    "executionInfo": {
     "elapsed": 7208,
     "status": "ok",
     "timestamp": 1730927094550,
     "user": {
      "displayName": "José Antonio Cantoral Ceballos",
      "userId": "04961139803161381162"
     },
     "user_tz": 360
    },
    "id": "878b524f"
   },
   "outputs": [],
   "source": [
    "# The following libraries are required for running the given code\n",
    "# Please feel free to add any libraries you consider adecuate to complete the assingment.\n",
    "import numpy as np\n",
    "#PyTorch libraries\n",
    "import torch\n",
    "from torchtext.datasets import AG_NEWS\n",
    "# Dataloader library\n",
    "from torch.utils.data import DataLoader\n",
    "from torch.utils.data.dataset import random_split\n",
    "# Libraries to prepare the data\n",
    "from torchtext.data.utils import get_tokenizer\n",
    "from torchtext.vocab import build_vocab_from_iterator\n",
    "from torchtext.data.functional import to_map_style_dataset\n",
    "# neural layers\n",
    "from torch import nn\n",
    "from torch.nn import functional as F\n",
    "\n",
    "# These libraries are suggested to plot confusion matrix\n",
    "# you may use others\n",
    "import scikitplot as skplt\n",
    "import gc"
   ]
  },
  {
   "cell_type": "code",
   "execution_count": 5,
   "id": "3bab55f3",
   "metadata": {
    "colab": {
     "base_uri": "https://localhost:8080/"
    },
    "executionInfo": {
     "elapsed": 159,
     "status": "ok",
     "timestamp": 1730927097048,
     "user": {
      "displayName": "José Antonio Cantoral Ceballos",
      "userId": "04961139803161381162"
     },
     "user_tz": 360
    },
    "id": "3bab55f3",
    "outputId": "ceeb9cf1-327b-4c48-deda-c550651803ec"
   },
   "outputs": [
    {
     "name": "stdout",
     "output_type": "stream",
     "text": [
      "cuda\n"
     ]
    }
   ],
   "source": [
    "# Use GPU if available\n",
    "device = torch.device(\"cuda\" if torch.cuda.is_available() else \"cpu\")\n",
    "print(device)"
   ]
  },
  {
   "cell_type": "markdown",
   "id": "3d38956d",
   "metadata": {
    "id": "3d38956d"
   },
   "source": [
    "### Get the train and the test datasets and dataloaders"
   ]
  },
  {
   "cell_type": "markdown",
   "id": "e9c6b784",
   "metadata": {
    "id": "e9c6b784"
   },
   "source": [
    "Classes:\n",
    "\n",
    "* 1 - World\n",
    "\n",
    "* 2 - Sports\n",
    "\n",
    "* 3 - Business\n",
    "\n",
    "* 4 - Sci/Tech\n",
    "\n",
    "We will convert them to:\n",
    "\n",
    "* 0 - World\n",
    "\n",
    "* 1 - Sports\n",
    "\n",
    "* 2 - Business\n",
    "\n",
    "* 3 - Sci/Tech"
   ]
  },
  {
   "cell_type": "code",
   "execution_count": 6,
   "id": "49fbed19",
   "metadata": {
    "executionInfo": {
     "elapsed": 5438,
     "status": "ok",
     "timestamp": 1730927105127,
     "user": {
      "displayName": "José Antonio Cantoral Ceballos",
      "userId": "04961139803161381162"
     },
     "user_tz": 360
    },
    "id": "49fbed19"
   },
   "outputs": [],
   "source": [
    "train_dataset, test_dataset = AG_NEWS()\n",
    "train_dataset, test_dataset = to_map_style_dataset(train_dataset), to_map_style_dataset(test_dataset)"
   ]
  },
  {
   "cell_type": "code",
   "execution_count": 7,
   "id": "9c372eb9",
   "metadata": {
    "executionInfo": {
     "elapsed": 226,
     "status": "ok",
     "timestamp": 1730927106939,
     "user": {
      "displayName": "José Antonio Cantoral Ceballos",
      "userId": "04961139803161381162"
     },
     "user_tz": 360
    },
    "id": "9c372eb9"
   },
   "outputs": [],
   "source": [
    "# Get the tokeniser\n",
    "# tokeniser object\n",
    "tokeniser = get_tokenizer('basic_english')\n",
    "\n",
    "def yield_tokens(data):\n",
    "    for _, text in data:\n",
    "        yield tokeniser(text)"
   ]
  },
  {
   "cell_type": "code",
   "execution_count": 8,
   "id": "794d0375",
   "metadata": {
    "executionInfo": {
     "elapsed": 6165,
     "status": "ok",
     "timestamp": 1730927114676,
     "user": {
      "displayName": "José Antonio Cantoral Ceballos",
      "userId": "04961139803161381162"
     },
     "user_tz": 360
    },
    "id": "794d0375"
   },
   "outputs": [],
   "source": [
    "# Build the vocabulary\n",
    "vocab = build_vocab_from_iterator(yield_tokens(train_dataset), specials=[\"<unk>\"])\n",
    "#set unknown token at position 0\n",
    "vocab.set_default_index(vocab[\"<unk>\"])"
   ]
  },
  {
   "cell_type": "code",
   "execution_count": 9,
   "id": "b48268d4",
   "metadata": {
    "colab": {
     "base_uri": "https://localhost:8080/"
    },
    "executionInfo": {
     "elapsed": 196,
     "status": "ok",
     "timestamp": 1730927117331,
     "user": {
      "displayName": "José Antonio Cantoral Ceballos",
      "userId": "04961139803161381162"
     },
     "user_tz": 360
    },
    "id": "b48268d4",
    "outputId": "f9c839a1-8598-41e9-c8a0-5e49ce5b5a9c"
   },
   "outputs": [
    {
     "name": "stdout",
     "output_type": "stream",
     "text": [
      "['welcome', 'to', 'tc5033'] [3314, 4, 0]\n"
     ]
    }
   ],
   "source": [
    "#test tokens\n",
    "tokens = tokeniser('Welcome to TC5033')\n",
    "print(tokens, vocab(tokens))"
   ]
  },
  {
   "cell_type": "code",
   "execution_count": 10,
   "id": "c8c8f6a6",
   "metadata": {
    "executionInfo": {
     "elapsed": 200,
     "status": "ok",
     "timestamp": 1730927118687,
     "user": {
      "displayName": "José Antonio Cantoral Ceballos",
      "userId": "04961139803161381162"
     },
     "user_tz": 360
    },
    "id": "c8c8f6a6"
   },
   "outputs": [],
   "source": [
    "NUM_TRAIN = int(len(train_dataset)*0.9)\n",
    "NUM_VAL = len(train_dataset) - NUM_TRAIN"
   ]
  },
  {
   "cell_type": "code",
   "execution_count": 11,
   "id": "3ec2b19c",
   "metadata": {},
   "outputs": [],
   "source": [
    "# set random seed for reproducibility\n",
    "torch.manual_seed(42)\n",
    "np.random.seed(42)\n"
   ]
  },
  {
   "cell_type": "code",
   "execution_count": 12,
   "id": "8290895e",
   "metadata": {
    "executionInfo": {
     "elapsed": 142,
     "status": "ok",
     "timestamp": 1730927121582,
     "user": {
      "displayName": "José Antonio Cantoral Ceballos",
      "userId": "04961139803161381162"
     },
     "user_tz": 360
    },
    "id": "8290895e"
   },
   "outputs": [],
   "source": [
    "train_dataset, val_dataset = random_split(train_dataset, [NUM_TRAIN, NUM_VAL])"
   ]
  },
  {
   "cell_type": "code",
   "execution_count": 13,
   "id": "cbc75b54",
   "metadata": {
    "colab": {
     "base_uri": "https://localhost:8080/"
    },
    "executionInfo": {
     "elapsed": 161,
     "status": "ok",
     "timestamp": 1730927125276,
     "user": {
      "displayName": "José Antonio Cantoral Ceballos",
      "userId": "04961139803161381162"
     },
     "user_tz": 360
    },
    "id": "cbc75b54",
    "outputId": "471ffecd-8d50-4c0b-8ad8-eab70f80c40d"
   },
   "outputs": [
    {
     "name": "stdout",
     "output_type": "stream",
     "text": [
      "108000 12000 7600\n"
     ]
    }
   ],
   "source": [
    "print(len(train_dataset), len(val_dataset), len(test_dataset))"
   ]
  },
  {
   "cell_type": "code",
   "execution_count": 14,
   "id": "ffdbf077",
   "metadata": {
    "executionInfo": {
     "elapsed": 160,
     "status": "ok",
     "timestamp": 1730927127379,
     "user": {
      "displayName": "José Antonio Cantoral Ceballos",
      "userId": "04961139803161381162"
     },
     "user_tz": 360
    },
    "id": "ffdbf077"
   },
   "outputs": [],
   "source": [
    "# function passed to the DataLoader to process a batch of data as indicated\n",
    "def collate_batch(batch):\n",
    "    # Get label and text\n",
    "    y, x = list(zip(*batch))\n",
    "\n",
    "    # Create list with indices from tokeniser\n",
    "    x = [vocab(tokeniser(text)) for text in x]\n",
    "    x = [t + ([0]*(max_tokens - len(t))) if len(t) < max_tokens else t[:max_tokens] for t in x]\n",
    "\n",
    "    # Prepare the labels, by subtracting 1 to get them in the range 0-3\n",
    "    return torch.tensor(x, dtype=torch.int32), torch.tensor(y, dtype=torch.int32) - 1"
   ]
  },
  {
   "cell_type": "code",
   "execution_count": 15,
   "id": "5eb459c7",
   "metadata": {
    "executionInfo": {
     "elapsed": 151,
     "status": "ok",
     "timestamp": 1730927128564,
     "user": {
      "displayName": "José Antonio Cantoral Ceballos",
      "userId": "04961139803161381162"
     },
     "user_tz": 360
    },
    "id": "5eb459c7"
   },
   "outputs": [],
   "source": [
    "labels =  [\"World\", \"Sports\", \"Business\", \"Sci/Tech\"]\n",
    "max_tokens = 50\n",
    "BATCH_SIZE = 256"
   ]
  },
  {
   "cell_type": "code",
   "execution_count": null,
   "id": "0a55e6ee",
   "metadata": {
    "executionInfo": {
     "elapsed": 178,
     "status": "ok",
     "timestamp": 1730927129681,
     "user": {
      "displayName": "José Antonio Cantoral Ceballos",
      "userId": "04961139803161381162"
     },
     "user_tz": 360
    },
    "id": "0a55e6ee"
   },
   "outputs": [],
   "source": [
    "train_loader = DataLoader(train_dataset, batch_size=BATCH_SIZE, collate_fn=collate_batch, shuffle = True)\n",
    "val_loader = DataLoader(val_dataset, batch_size=BATCH_SIZE, collate_fn=collate_batch, shuffle = True)\n",
    "test_loader = DataLoader(test_dataset, batch_size=BATCH_SIZE, collate_fn=collate_batch, shuffle = True)"
   ]
  },
  {
   "cell_type": "markdown",
   "id": "47b98898",
   "metadata": {
    "id": "47b98898"
   },
   "source": [
    "### Let us build our RNN model"
   ]
  },
  {
   "cell_type": "code",
   "execution_count": 17,
   "id": "50f20793",
   "metadata": {
    "executionInfo": {
     "elapsed": 193,
     "status": "ok",
     "timestamp": 1730927132530,
     "user": {
      "displayName": "José Antonio Cantoral Ceballos",
      "userId": "04961139803161381162"
     },
     "user_tz": 360
    },
    "id": "50f20793"
   },
   "outputs": [],
   "source": [
    "EMBEDDING_SIZE = 300\n",
    "NEURONS = 256\n",
    "LAYERS = 2\n",
    "NUM_CLASSES = 4"
   ]
  },
  {
   "cell_type": "code",
   "execution_count": 47,
   "id": "829d3797",
   "metadata": {},
   "outputs": [],
   "source": [
    "def accuracy(model, loader):\n",
    "    model.eval()  # Set model to evaluation mode\n",
    "    correct = 0\n",
    "    total = 0\n",
    "    with torch.no_grad():  # Disable gradient computation\n",
    "        for x, y in loader:\n",
    "            x, y = x.to(device), y.to(device)  # Ensure data is on the correct device\n",
    "            outputs = model(x)\n",
    "            _, predicted = torch.max(outputs, 1)  # Get the predicted class for each sample\n",
    "            total += y.size(0)  # Total number of samples\n",
    "            correct += (predicted == y).sum().item()  # Count correct predictions\n",
    "    \n",
    "    model.train()  # Set the model back to training mode\n",
    "    return correct / total  # Return accuracy as a proportion"
   ]
  },
  {
   "cell_type": "code",
   "execution_count": 48,
   "id": "de540aa0",
   "metadata": {},
   "outputs": [],
   "source": [
    "def train(model, optimiser, epochs=100):\n",
    "    model.train()\n",
    "    for epoch in range(epochs):\n",
    "        for x, y in train_loader:\n",
    "            x, y = x.to(device), y.to(device).long()  # Convert y to LongTensor\n",
    "            optimiser.zero_grad()\n",
    "            outputs = model(x)\n",
    "            loss = F.cross_entropy(outputs, y)\n",
    "            loss.backward()\n",
    "            optimiser.step()\n",
    "        val_acc = accuracy(model, val_loader)\n",
    "        print(f\"Epoch {epoch+1}, Loss: {loss.item()}, Validation Accuracy: {val_acc}\")\n"
   ]
  },
  {
   "cell_type": "markdown",
   "id": "8e9a22e4",
   "metadata": {},
   "source": [
    "### Example 1: RNN model\n",
    "\n",
    "In the following model architecture, we will use an embedding layer to convert the words into vectors, followed by an RNN layer and a linear layer to make the final prediction.\n",
    "\n",
    "We decided to add a Dropout of 0.3 to the RNN layer, and to the forward method, as a regularization technique to prevent overfitting (Zeremba et al., 2014).\n",
    "\n",
    "Reference:\n",
    "\n",
    "Zaremba, W., Sutskever, I., & Vinyals, O. (2014). Recurrent Neural Network Regularization. arXiv preprint arXiv:1409.2329."
   ]
  },
  {
   "cell_type": "code",
   "execution_count": 108,
   "id": "0f7f5621",
   "metadata": {
    "id": "0f7f5621",
    "outputId": "673b7ec3-7261-4848-fd8f-e1116533a8ba"
   },
   "outputs": [],
   "source": [
    "class RNN_Model_1(nn.Module):\n",
    "    def __init__(self, embed_size, hidden, layers, num_classes):\n",
    "        super().__init__()\n",
    "        \n",
    "        # Embedding layer to convert token indices to embeddings\n",
    "        self.embedding_layer = nn.Embedding(\n",
    "            num_embeddings=len(vocab),\n",
    "            embedding_dim=embed_size\n",
    "        )\n",
    "        \n",
    "        # complete this code/\n",
    "        # You may use PyTorch nn.GRU(), nn.RNN(), or nn.LSTM()\n",
    "        \n",
    "        self.rnn = nn.RNN(\n",
    "            input_size=embed_size,\n",
    "            hidden_size=hidden,\n",
    "            num_layers=layers,\n",
    "            batch_first=True,\n",
    "            dropout=0.3  # Dropout for RNN layers if more than 1 layer\n",
    "        )\n",
    "        \n",
    "        # Fully connected layer for classification\n",
    "        self.fc = nn.Linear(hidden, num_classes) \n",
    "\n",
    "    def forward(self, x):\n",
    "        embedded = self.embedding_layer(x)\n",
    "        \n",
    "        # Forward pass through the RNN\n",
    "        output, _ = self.rnn(embedded)\n",
    "        \n",
    "        # Take the last output from the sequence for classification\n",
    "        output = output[:, -1, :]\n",
    "        \n",
    "        # Apply dropout after RNN for additional regularization\n",
    "        output = F.dropout(output, p=0.3, training=self.training)\n",
    "        \n",
    "        # Fully connected layer for final output\n",
    "        return self.fc(output)\n"
   ]
  },
  {
   "cell_type": "markdown",
   "id": "eb014c62",
   "metadata": {},
   "source": [
    "Running first example using a RNN model"
   ]
  },
  {
   "cell_type": "code",
   "execution_count": 115,
   "id": "87775b29",
   "metadata": {
    "id": "87775b29"
   },
   "outputs": [],
   "source": [
    "# Added seed for reproducibility\n",
    "torch.manual_seed(42)\n",
    "\n",
    "epochs = 10\n",
    "lr = 0.0001\n",
    "# instantiate model\n",
    "rnn_model = RNN_Model_1(EMBEDDING_SIZE, 512, 2, NUM_CLASSES)\n",
    "rnn_model.to(device)\n",
    "\n",
    "# The adam optimiser is used, we added the weight decay parameter to regularize the weights, for suggestion of the professor, it is fixed at 1e-4\n",
    "optimiser = torch.optim.Adam(rnn_model.parameters(), lr=lr, weight_decay=1e-4)\n"
   ]
  },
  {
   "cell_type": "markdown",
   "id": "f2c9ca88",
   "metadata": {},
   "source": [
    "Training the RMM model example with the selected parameters\n",
    "\n",
    "- embedding_size = 300\n",
    "- neurons = 512\n",
    "- layers = 2\n",
    "- classes = 4"
   ]
  },
  {
   "cell_type": "code",
   "execution_count": 116,
   "id": "aec12a1b",
   "metadata": {
    "id": "aec12a1b",
    "scrolled": true
   },
   "outputs": [
    {
     "name": "stdout",
     "output_type": "stream",
     "text": [
      "Epoch 1, Loss: 1.1429535150527954, Validation Accuracy: 0.46108333333333335\n",
      "Epoch 2, Loss: 0.8826776742935181, Validation Accuracy: 0.6730833333333334\n",
      "Epoch 3, Loss: 0.5544078946113586, Validation Accuracy: 0.7511666666666666\n",
      "Epoch 4, Loss: 0.5945878624916077, Validation Accuracy: 0.772\n",
      "Epoch 5, Loss: 0.6064885258674622, Validation Accuracy: 0.80125\n",
      "Epoch 6, Loss: 0.5066425800323486, Validation Accuracy: 0.7936666666666666\n",
      "Epoch 7, Loss: 0.46621331572532654, Validation Accuracy: 0.8188333333333333\n",
      "Epoch 8, Loss: 0.5153234601020813, Validation Accuracy: 0.8335833333333333\n",
      "Epoch 9, Loss: 0.42969444394111633, Validation Accuracy: 0.8310833333333333\n",
      "Epoch 10, Loss: 0.47421783208847046, Validation Accuracy: 0.8368333333333333\n"
     ]
    }
   ],
   "source": [
    "# Added seed for reproducibility\n",
    "torch.manual_seed(42)\n",
    "\n",
    "train(rnn_model, optimiser=optimiser,  epochs=epochs)"
   ]
  },
  {
   "cell_type": "code",
   "execution_count": 117,
   "id": "7a3ef175",
   "metadata": {
    "id": "7a3ef175"
   },
   "outputs": [
    {
     "name": "stdout",
     "output_type": "stream",
     "text": [
      "0.8397\n"
     ]
    }
   ],
   "source": [
    "print(f'{accuracy(rnn_model, test_loader):.4f}')"
   ]
  },
  {
   "cell_type": "markdown",
   "id": "5f709951",
   "metadata": {},
   "source": [
    "### GRU model"
   ]
  },
  {
   "cell_type": "code",
   "execution_count": 101,
   "id": "12e7e138",
   "metadata": {},
   "outputs": [],
   "source": [
    "class GRU_Model(nn.Module):\n",
    "    def __init__(self, embed_size, hidden, layers, num_classes):\n",
    "        super().__init__()\n",
    "        \n",
    "        # Embedding layer to convert token indices to embeddings\n",
    "        self.embedding_layer = nn.Embedding(\n",
    "            num_embeddings=len(vocab),\n",
    "            embedding_dim=embed_size\n",
    "        )\n",
    "        \n",
    "        # GRU layer for improved sequence handling\n",
    "        self.rnn = nn.GRU(\n",
    "            input_size=embed_size,\n",
    "            hidden_size=hidden,\n",
    "            num_layers=layers,\n",
    "            batch_first=True,\n",
    "            dropout=0.3  # Dropout between GRU layers if layers > 1\n",
    "        )\n",
    "        \n",
    "        # Fully connected layer for classification\n",
    "        self.fc = nn.Linear(hidden, num_classes) \n",
    "\n",
    "    def forward(self, x):\n",
    "        embedded = self.embedding_layer(x)\n",
    "        \n",
    "        # Forward pass through the GRU\n",
    "        output, _ = self.rnn(embedded)\n",
    "        \n",
    "        # Take the last output from the sequence for classification\n",
    "        output = output[:, -1, :]\n",
    "        \n",
    "        # Apply dropout after GRU for additional regularization\n",
    "        output = F.dropout(output, p=0.3, training=self.training)\n",
    "        \n",
    "        # Fully connected layer for final output\n",
    "        return self.fc(output)\n"
   ]
  },
  {
   "cell_type": "code",
   "execution_count": 102,
   "id": "2b4b6da0",
   "metadata": {},
   "outputs": [],
   "source": [
    "# Added seed for reproducibility\n",
    "torch.manual_seed(42)\n",
    "\n",
    "epochs = 10\n",
    "lr = 0.001\n",
    "# instantiate model\n",
    "gru_model = GRU_Model(EMBEDDING_SIZE, NEURONS, LAYERS, NUM_CLASSES)\n",
    "gru_model.to(device)\n",
    "\n",
    "# The adam optimiser is used, we added the weight decay parameter to regularize the weights, for suggestion of the professor, it is fixed at 1e-4\n",
    "optimiser = torch.optim.Adam(gru_model.parameters(), lr=lr, weight_decay=1e-4)"
   ]
  },
  {
   "cell_type": "code",
   "execution_count": 103,
   "id": "5cc7f112",
   "metadata": {},
   "outputs": [
    {
     "name": "stdout",
     "output_type": "stream",
     "text": [
      "Epoch 1, Loss: 0.3126358687877655, Validation Accuracy: 0.8740833333333333\n",
      "Epoch 2, Loss: 0.2841982841491699, Validation Accuracy: 0.88925\n",
      "Epoch 3, Loss: 0.20336447656154633, Validation Accuracy: 0.88275\n",
      "Epoch 4, Loss: 0.24331273138523102, Validation Accuracy: 0.9029166666666667\n",
      "Epoch 5, Loss: 0.314243882894516, Validation Accuracy: 0.9106666666666666\n",
      "Epoch 6, Loss: 0.21448835730552673, Validation Accuracy: 0.90975\n",
      "Epoch 7, Loss: 0.14651770889759064, Validation Accuracy: 0.9121666666666667\n",
      "Epoch 8, Loss: 0.23195186257362366, Validation Accuracy: 0.9173333333333333\n",
      "Epoch 9, Loss: 0.16697660088539124, Validation Accuracy: 0.9201666666666667\n",
      "Epoch 10, Loss: 0.16202130913734436, Validation Accuracy: 0.9184166666666667\n"
     ]
    }
   ],
   "source": [
    "# Added seed for reproducibility\n",
    "torch.manual_seed(42)\n",
    "\n",
    "# Training the model with the GRU architecture\n",
    "train(gru_model, optimiser=optimiser,  epochs=epochs)"
   ]
  },
  {
   "cell_type": "code",
   "execution_count": 104,
   "id": "f15a032e",
   "metadata": {},
   "outputs": [
    {
     "name": "stdout",
     "output_type": "stream",
     "text": [
      "0.9163\n"
     ]
    }
   ],
   "source": [
    "# Validation accuracy of the model with the GRU architecture on the test set\n",
    "print(f'{accuracy(gru_model, test_loader):.4f}')"
   ]
  },
  {
   "cell_type": "markdown",
   "id": "b4dab8f7",
   "metadata": {},
   "source": [
    "### LSTM model example"
   ]
  },
  {
   "cell_type": "code",
   "execution_count": 94,
   "id": "a0e1aa29",
   "metadata": {},
   "outputs": [],
   "source": [
    "class LSTM_Model(nn.Module):\n",
    "    def __init__(self, embed_size, hidden, layers, num_classes):\n",
    "        super().__init__()\n",
    "        \n",
    "        # Embedding layer to convert token indices to embeddings\n",
    "        self.embedding_layer = nn.Embedding(\n",
    "            num_embeddings=len(vocab),\n",
    "            embedding_dim=embed_size\n",
    "        )\n",
    "        \n",
    "        # LSTM layer for improved sequence handling\n",
    "        self.rnn = nn.LSTM(\n",
    "            input_size=embed_size,\n",
    "            hidden_size=hidden,\n",
    "            num_layers=layers,\n",
    "            batch_first=True,\n",
    "            dropout=0.3  # Dropout between LSTM layers if layers > 1\n",
    "        )\n",
    "        \n",
    "        # Fully connected layer for classification\n",
    "        self.fc = nn.Linear(hidden, num_classes) \n",
    "\n",
    "    def forward(self, x):\n",
    "        embedded = self.embedding_layer(x)\n",
    "        \n",
    "        # Forward pass through the LSTM\n",
    "        output, (hidden, cell) = self.rnn(embedded)\n",
    "        \n",
    "        # Take the last hidden state from the sequence for classification\n",
    "        output = hidden[-1]\n",
    "        \n",
    "        # Apply dropout after LSTM for additional regularization\n",
    "        output = F.dropout(output, p=0.3, training=self.training)\n",
    "        \n",
    "        # Fully connected layer for final output\n",
    "        return self.fc(output)\n"
   ]
  },
  {
   "cell_type": "code",
   "execution_count": 95,
   "id": "145181ba",
   "metadata": {},
   "outputs": [],
   "source": [
    "# Added seed for reproducibility\n",
    "torch.manual_seed(42)\n",
    "\n",
    "epochs = 10\n",
    "lr = 0.001\n",
    "# instantiate model\n",
    "lstm_model = LSTM_Model(EMBEDDING_SIZE, NEURONS, LAYERS, NUM_CLASSES)\n",
    "lstm_model.to(device)\n",
    "\n",
    "# The adam optimiser is used, we added the weight decay parameter to regularize the weights, for suggestion of the professor, it is fixed at 1e-4\n",
    "optimiser = torch.optim.Adam(lstm_model.parameters(), lr=lr, weight_decay=1e-4)\n"
   ]
  },
  {
   "cell_type": "code",
   "execution_count": 96,
   "id": "b6940ecb",
   "metadata": {},
   "outputs": [
    {
     "name": "stdout",
     "output_type": "stream",
     "text": [
      "Epoch 1, Loss: 0.4080354571342468, Validation Accuracy: 0.85225\n",
      "Epoch 2, Loss: 0.36314302682876587, Validation Accuracy: 0.86875\n",
      "Epoch 3, Loss: 0.27095863223075867, Validation Accuracy: 0.87475\n",
      "Epoch 4, Loss: 0.2793137729167938, Validation Accuracy: 0.89875\n",
      "Epoch 5, Loss: 0.3000762164592743, Validation Accuracy: 0.9038333333333334\n",
      "Epoch 6, Loss: 0.2528683841228485, Validation Accuracy: 0.9090833333333334\n",
      "Epoch 7, Loss: 0.18264101445674896, Validation Accuracy: 0.9108333333333334\n",
      "Epoch 8, Loss: 0.3281090259552002, Validation Accuracy: 0.9025\n",
      "Epoch 9, Loss: 0.20880088210105896, Validation Accuracy: 0.9145833333333333\n",
      "Epoch 10, Loss: 0.20069101452827454, Validation Accuracy: 0.9184166666666667\n"
     ]
    }
   ],
   "source": [
    "# Added seed for reproducibility\n",
    "torch.manual_seed(42)\n",
    "\n",
    "# Training the model with the LSTM architecture\n",
    "train(lstm_model, optimiser=optimiser,  epochs=epochs)"
   ]
  },
  {
   "cell_type": "code",
   "execution_count": 97,
   "id": "67619340",
   "metadata": {},
   "outputs": [
    {
     "name": "stdout",
     "output_type": "stream",
     "text": [
      "0.9196\n"
     ]
    }
   ],
   "source": [
    "# Validation accuracy of the model with the LSTM architecture on the test set\n",
    "print(f'{accuracy(lstm_model, test_loader):.4f}')"
   ]
  },
  {
   "cell_type": "code",
   "execution_count": 105,
   "id": "ed30693d",
   "metadata": {
    "id": "ed30693d"
   },
   "outputs": [],
   "source": [
    "def sample_text(model, loader):\n",
    "    model.eval()  # Set model to evaluation mode\n",
    "    with torch.no_grad():  # Disable gradient computation\n",
    "        for x, y in loader:\n",
    "            x, y = x.to(device), y.to(device)  # Ensure data is on the correct device\n",
    "            outputs = model(x)\n",
    "            _, predicted = torch.max(outputs, 1)  # Get the predicted class for each sample\n",
    "            return x, y, predicted"
   ]
  },
  {
   "cell_type": "code",
   "execution_count": 106,
   "id": "534f0220",
   "metadata": {
    "id": "534f0220"
   },
   "outputs": [
    {
     "data": {
      "text/plain": [
       "(tensor([[ 796,  675,    0,  ...,    0,    0,    0],\n",
       "         [  78,    1,  395,  ...,    0,    0,    0],\n",
       "         [1050,  591, 1901,  ...,    0,    0,    0],\n",
       "         ...,\n",
       "         [2713,  477,  267,  ...,   79,  800,    4],\n",
       "         [   5, 2710,  617,  ..., 1923,    8, 1970],\n",
       "         [6049, 9710,  195,  ...,    0,    0,    0]], device='cuda:0',\n",
       "        dtype=torch.int32),\n",
       " tensor([2, 1, 2, 0, 0, 1, 1, 2, 1, 1, 2, 3, 2, 3, 3, 3, 1, 3, 2, 0, 0, 3, 0, 1,\n",
       "         2, 1, 2, 3, 0, 0, 1, 3, 0, 2, 1, 1, 0, 0, 3, 0, 0, 3, 2, 1, 0, 2, 1, 0,\n",
       "         1, 2, 0, 2, 2, 2, 2, 0, 2, 0, 1, 3, 3, 3, 2, 3, 1, 0, 0, 1, 1, 1, 2, 0,\n",
       "         1, 2, 3, 3, 1, 1, 0, 2, 3, 1, 1, 3, 2, 1, 0, 3, 1, 3, 1, 1, 2, 3, 0, 1,\n",
       "         2, 3, 0, 3, 0, 2, 1, 0, 0, 0, 0, 0, 1, 0, 2, 2, 0, 1, 2, 2, 1, 3, 2, 1,\n",
       "         2, 3, 3, 3, 3, 1, 3, 0, 0, 0, 3, 1, 0, 1, 1, 2, 0, 2, 3, 1, 3, 1, 0, 0,\n",
       "         3, 0, 1, 3, 3, 3, 0, 3, 1, 3, 2, 2, 0, 1, 1, 2, 1, 0, 1, 0, 3, 1, 0, 2,\n",
       "         0, 3, 0, 0, 2, 2, 2, 1, 2, 3, 0, 0, 2, 3, 2, 2, 1, 0, 2, 1, 2, 0, 2, 2,\n",
       "         1, 2, 3, 2, 2, 1, 2, 0, 1, 2, 3, 0, 0, 0, 3, 3, 3, 2, 2, 0, 1, 0, 3, 0,\n",
       "         3, 0, 1, 1, 2, 2, 0, 1, 0, 2, 1, 0, 1, 1, 1, 3, 0, 3, 3, 3, 2, 2, 1, 1,\n",
       "         3, 2, 2, 2, 0, 0, 3, 1, 3, 2, 2, 3, 1, 0, 3, 1], device='cuda:0',\n",
       "        dtype=torch.int32),\n",
       " tensor([3, 1, 3, 3, 1, 2, 3, 1, 2, 2, 3, 3, 1, 3, 3, 0, 3, 0, 0, 2, 0, 0, 3, 3,\n",
       "         0, 3, 2, 0, 3, 3, 3, 0, 3, 1, 3, 3, 2, 2, 3, 0, 2, 3, 1, 3, 2, 3, 3, 3,\n",
       "         2, 0, 3, 3, 3, 0, 0, 2, 0, 3, 3, 2, 3, 1, 1, 3, 3, 2, 3, 3, 2, 3, 3, 0,\n",
       "         3, 3, 3, 3, 0, 3, 3, 3, 3, 2, 1, 3, 1, 3, 3, 3, 2, 3, 1, 3, 0, 0, 0, 3,\n",
       "         3, 3, 0, 2, 1, 3, 3, 3, 3, 1, 3, 0, 3, 3, 0, 2, 2, 3, 3, 3, 3, 3, 2, 0,\n",
       "         2, 3, 1, 3, 3, 3, 3, 3, 3, 0, 2, 1, 0, 3, 0, 3, 2, 3, 3, 3, 3, 3, 3, 2,\n",
       "         3, 3, 3, 0, 3, 3, 2, 3, 2, 3, 3, 3, 3, 0, 2, 3, 0, 3, 3, 3, 0, 0, 3, 0,\n",
       "         3, 3, 3, 3, 1, 3, 3, 3, 3, 3, 0, 1, 3, 3, 3, 0, 3, 3, 3, 3, 3, 3, 0, 3,\n",
       "         0, 3, 3, 0, 3, 3, 1, 3, 3, 3, 2, 3, 3, 3, 2, 3, 0, 3, 2, 3, 3, 2, 1, 2,\n",
       "         3, 3, 0, 3, 3, 3, 3, 2, 3, 3, 2, 2, 3, 0, 3, 2, 0, 2, 3, 3, 3, 0, 3, 1,\n",
       "         3, 3, 0, 0, 1, 3, 1, 3, 1, 1, 0, 3, 2, 3, 2, 0], device='cuda:0'))"
      ]
     },
     "execution_count": 106,
     "metadata": {},
     "output_type": "execute_result"
    }
   ],
   "source": [
    "sample_text(rnn_model, test_loader)"
   ]
  },
  {
   "cell_type": "code",
   "execution_count": 107,
   "id": "bb38e093",
   "metadata": {
    "id": "bb38e093"
   },
   "outputs": [
    {
     "data": {
      "text/plain": [
       "3501"
      ]
     },
     "execution_count": 107,
     "metadata": {},
     "output_type": "execute_result"
    },
    {
     "data": {
      "image/png": "[encoded data removed]",
      "text/plain": [
       "<Figure size 1200x1200 with 2 Axes>"
      ]
     },
     "metadata": {},
     "output_type": "display_data"
    }
   ],
   "source": [
    "# create confusion matrix\n",
    "x, y, predicted = sample_text(rnn_model, test_loader)\n",
    "skplt.metrics.plot_confusion_matrix(y.cpu(), predicted.cpu(), figsize=(12,12), x_tick_rotation=45)\n",
    "gc.collect()\n",
    "\n"
   ]
  },
  {
   "cell_type": "code",
   "execution_count": null,
   "id": "e7d73f69",
   "metadata": {
    "id": "e7d73f69"
   },
   "outputs": [],
   "source": []
  },
  {
   "cell_type": "code",
   "execution_count": null,
   "id": "5327e204",
   "metadata": {
    "id": "5327e204"
   },
   "outputs": [],
   "source": []
  },
  {
   "cell_type": "code",
   "execution_count": null,
   "id": "7bc921f9",
   "metadata": {
    "id": "7bc921f9"
   },
   "outputs": [],
   "source": []
  },
  {
   "cell_type": "code",
   "execution_count": null,
   "id": "ed62b0d5",
   "metadata": {
    "id": "ed62b0d5"
   },
   "outputs": [],
   "source": []
  },
  {
   "cell_type": "code",
   "execution_count": null,
   "id": "1c82cfd3",
   "metadata": {
    "id": "1c82cfd3"
   },
   "outputs": [],
   "source": []
  }
 ],
 "metadata": {
  "colab": {
   "provenance": []
  },
  "kernelspec": {
   "display_name": "Python 3 (ipykernel)",
   "language": "python",
   "name": "python3"
  },
  "language_info": {
   "codemirror_mode": {
    "name": "ipython",
    "version": 3
   },
   "file_extension": ".py",
   "mimetype": "text/x-python",
   "name": "python",
   "nbconvert_exporter": "python",
   "pygments_lexer": "ipython3",
   "version": "3.11.7"
  },
  "varInspector": {
   "cols": {
    "lenName": 16,
    "lenType": 16,
    "lenVar": 40
   },
   "kernels_config": {
    "python": {
     "delete_cmd_postfix": "",
     "delete_cmd_prefix": "del ",
     "library": "var_list.py",
     "varRefreshCmd": "print(var_dic_list())"
    },
    "r": {
     "delete_cmd_postfix": ") ",
     "delete_cmd_prefix": "rm(",
     "library": "var_list.r",
     "varRefreshCmd": "cat(var_dic_list()) "
    }
   },
   "types_to_exclude": [
    "module",
    "function",
    "builtin_function_or_method",
    "instance",
    "_Feature"
   ],
   "window_display": false
  }
 },
 "nbformat": 4,
 "nbformat_minor": 5
}
